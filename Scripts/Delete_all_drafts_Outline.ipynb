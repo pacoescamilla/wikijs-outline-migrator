{
  "cells": [
    {
      "cell_type": "code",
      "execution_count": null,
      "metadata": {
        "colab": {
          "base_uri": "https://localhost:8080/"
        },
        "id": "SfNzLP8o9Ltw",
        "outputId": "15eef0ae-eaf2-48cd-ff82-ccf05722ab1e"
      },
      "outputs": [],
      "source": [
        "import requests\n",
        "import json\n",
        "\n",
        "# Configurar las cabeceras de autorización y los datos de la solicitud\n",
        "outline_url_list_drafts = \"https://app.getoutline.com/api/documents.drafts\"\n",
        "outline_url_delete_draft = \"https://app.getoutline.com/api/documents.delete\"\n",
        "outline_headers = {\n",
        "    \"authorization\": \"Bearer YOUR API KEY\",\n",
        "    \"Content-Type\": \"application/json\"\n",
        "}\n",
        "\n",
        "list_drafts_payload = {\n",
        "    \"offset\": 0,\n",
        "    \"limit\": 100,\n",
        "    \"sort\": \"updatedAt\",\n",
        "    \"direction\": \"DESC\"\n",
        "}\n",
        "\n",
        "# Función para listar todos los borradores\n",
        "def list_drafts(payload):\n",
        "    response = requests.post(outline_url_list_drafts, headers=outline_headers, data=json.dumps(payload))\n",
        "    if response.status_code == 200:\n",
        "        drafts = response.json()\n",
        "        return drafts['data']\n",
        "    else:\n",
        "        print(f\"Error: {response.status_code}\")\n",
        "        return []\n",
        "\n",
        "# Función para eliminar un borrador por su ID\n",
        "def delete_draft(draft_id):\n",
        "    delete_data = json.dumps({\"id\": draft_id})\n",
        "    response = requests.post(outline_url_delete_draft, headers=outline_headers, data=delete_data)\n",
        "    if response.status_code == 200:\n",
        "        print(f\"Draft {draft_id} deleted successfully\")\n",
        "    else:\n",
        "        print(f\"Error deleting draft {draft_id}: {response.status_code}\")\n",
        "\n",
        "# Listar y eliminar todos los borradores\n",
        "drafts = list_drafts(list_drafts_payload)\n",
        "print(\"Drafts found:\", len(drafts))\n",
        "\n",
        "for draft in drafts:\n",
        "    delete_draft(draft['id'])"
      ]
    }
  ],
  "metadata": {
    "colab": {
      "provenance": []
    },
    "kernelspec": {
      "display_name": "Python 3",
      "name": "python3"
    },
    "language_info": {
      "codemirror_mode": {
        "name": "ipython",
        "version": 3
      },
      "file_extension": ".py",
      "mimetype": "text/x-python",
      "name": "python",
      "nbconvert_exporter": "python",
      "pygments_lexer": "ipython3",
      "version": "3.12.3"
    }
  },
  "nbformat": 4,
  "nbformat_minor": 0
}
