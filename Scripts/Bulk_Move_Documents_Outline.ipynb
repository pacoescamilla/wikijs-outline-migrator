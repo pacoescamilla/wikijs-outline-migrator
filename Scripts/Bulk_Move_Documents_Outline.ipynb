{
  "cells": [
    {
      "cell_type": "code",
      "execution_count": null,
      "metadata": {
        "colab": {
          "base_uri": "https://localhost:8080/"
        },
        "id": "-dBwX2EbNzG1",
        "outputId": "c787ded0-290f-4221-b570-c3fa9c2a35eb"
      },
      "outputs": [],
      "source": [
        "# Colab setup\n",
        "!pip install requests pandas\n",
        "\n",
        "import requests\n",
        "import pandas as pd\n",
        "\n",
        "# Define API URLs and headers\n",
        "API_BASE_URL = 'https://getoutline.com/api'\n",
        "COLLECTION_DOCUMENTS_URL = f'{API_BASE_URL}/collections.documents'\n",
        "MOVE_DOCUMENT_URL = f'{API_BASE_URL}/documents.move'\n",
        "HEADERS = {\n",
        "    'Authorization': 'Bearer YOUR_API_KEY',\n",
        "    'Content-Type': 'application/json'\n",
        "}\n",
        "\n",
        "TARGET_COLLECTION_ID = 'YOUR_COLLECTION_ID'\n",
        "\n",
        "# Function to get all documents from a specific collection\n",
        "def get_all_documents(collection_id):\n",
        "    payload = {\n",
        "        'id': collection_id\n",
        "    }\n",
        "    response = requests.post(COLLECTION_DOCUMENTS_URL, headers=HEADERS, json=payload)\n",
        "    response.raise_for_status()\n",
        "    documents = response.json().get('data', [])\n",
        "    return documents\n",
        "\n",
        "# Function to move a document to a new parent\n",
        "def move_document(document_id, new_parent_id):\n",
        "    payload = {\n",
        "        'id': document_id,\n",
        "        'parentDocumentId': new_parent_id,\n",
        "        'collectionId': TARGET_COLLECTION_ID  # Use the specified collection ID\n",
        "    }\n",
        "    response = requests.post(MOVE_DOCUMENT_URL, headers=HEADERS, json=payload)\n",
        "    try:\n",
        "        response.raise_for_status()\n",
        "    except requests.exceptions.HTTPError as err:\n",
        "        print(f\"Error moving document {document_id}: {err}\")\n",
        "        print(f\"Response content: {response.content.decode()}\")\n",
        "        raise\n",
        "    return response.json()\n",
        "\n",
        "# Function to filter documents by title and move them recursively\n",
        "def filter_and_move_documents(documents, search_string, new_parent_id):\n",
        "    for document in documents:\n",
        "        if search_string in document['title']:\n",
        "            print(f\"Moving document '{document['title']}' to new parent ID {new_parent_id}\")\n",
        "            move_document(document['id'], new_parent_id)\n",
        "        # Recursive check for child documents\n",
        "        if 'children' in document:\n",
        "            filter_and_move_documents(document['children'], search_string, new_parent_id)\n",
        "\n",
        "# Main function to run the process\n",
        "def main(collection_id, search_string, new_parent_id):\n",
        "    documents = get_all_documents(collection_id)\n",
        "    filter_and_move_documents(documents, search_string, new_parent_id)\n",
        "    print(\"Process completed.\")\n",
        "\n",
        "# User inputs\n",
        "collection_id = input(\"Enter the origin collection ID: \")\n",
        "search_string = input(\"Enter the string to search in document titles: \")\n",
        "new_parent_id = input(\"Enter the new parent document ID: \")\n",
        "\n",
        "# Run the main function\n",
        "main(collection_id, search_string, new_parent_id)"
      ]
    }
  ],
  "metadata": {
    "colab": {
      "provenance": []
    },
    "kernelspec": {
      "display_name": "Python 3",
      "name": "python3"
    },
    "language_info": {
      "name": "python"
    }
  },
  "nbformat": 4,
  "nbformat_minor": 0
}
