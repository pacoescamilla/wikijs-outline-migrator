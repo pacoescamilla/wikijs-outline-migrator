{
  "cells": [
    {
      "cell_type": "code",
      "execution_count": null,
      "metadata": {
        "colab": {
          "base_uri": "https://localhost:8080/"
        },
        "id": "WWFSfvxfY66H",
        "outputId": "cf51944a-8d25-467c-da0f-209aebb7096f"
      },
      "outputs": [],
      "source": [
        "# Instalar las dependencias necesarias\n",
        "!pip install requests markdownify\n",
        "\n",
        "# Importar las bibliotecas necesarias\n",
        "import requests\n",
        "import json\n",
        "from collections import defaultdict\n",
        "\n",
        "# Configuración de las solicitudes\n",
        "graphql_url = \"https://yourdomain.com/graphql\"\n",
        "headers = {\n",
        "    \"Authorization\": \"Bearer YOUR API KEY\",\n",
        "    \"Content-Type\": \"application/json\"\n",
        "}\n",
        "\n",
        "# Primera solicitud GraphQL para obtener la lista de páginas\n",
        "query_list = '''\n",
        "query Request {\n",
        "  pages {\n",
        "    list(orderBy: PATH) {\n",
        "      id\n",
        "      path\n",
        "      title\n",
        "      contentType\n",
        "    }\n",
        "  }\n",
        "}\n",
        "'''\n",
        "\n",
        "response = requests.post(graphql_url, headers=headers, json={\"query\": query_list})\n",
        "\n",
        "# Verificar si la solicitud fue exitosa\n",
        "if response.status_code != 200:\n",
        "    print(f\"Error en la solicitud inicial: {response.status_code}\")\n",
        "    print(response.text)\n",
        "else:\n",
        "    # Imprimir la respuesta completa para depuración\n",
        "    print(\"Respuesta completa de la solicitud inicial:\")\n",
        "    print(response.text)\n",
        "\n",
        "    pages_list = response.json().get(\"data\", {}).get(\"pages\", {}).get(\"list\", [])\n",
        "\n",
        "    # Debugging output\n",
        "    print(f\"Se encontraron {len(pages_list)} páginas.\")\n",
        "\n",
        "    # Crear un diccionario para la jerarquía\n",
        "    hierarchy = defaultdict(lambda: {'subpages': {}})\n",
        "\n",
        "    for page in pages_list:\n",
        "        parts = page['path'].strip('/').split('/')\n",
        "        current_level = hierarchy\n",
        "\n",
        "        for part in parts:\n",
        "            if part not in current_level:\n",
        "                current_level[part] = {'subpages': {}}\n",
        "            current_level = current_level[part]['subpages']\n",
        "\n",
        "        current_level['_info'] = {'id': page['id'], 'title': page['title'], 'contentType': page['contentType']}\n",
        "\n",
        "    # Función para imprimir la jerarquía con títulos\n",
        "    def print_hierarchy_with_titles(level, path='/', indent=0):\n",
        "        for key, value in level.items():\n",
        "            if key == '_info':\n",
        "                continue\n",
        "            full_path = f\"{path}{key}/\"\n",
        "            title = next((page['title'] for page in pages_list if page['path'] == full_path.strip('/')), key)\n",
        "            print('  ' * indent + title)\n",
        "            if '_info' in value:\n",
        "                print('  ' * (indent + 1) + f\"ID: {value['_info']['id']}\")\n",
        "                print('  ' * (indent + 1) + f\"Title: {value['_info']['title']}\")\n",
        "                print('  ' * (indent + 1) + f\"ContentType: {value['_info']['contentType']}\")\n",
        "            print_hierarchy_with_titles(value['subpages'], full_path, indent + 1)\n",
        "\n",
        "    # Imprimir la jerarquía de páginas con títulos\n",
        "    print_hierarchy_with_titles(hierarchy)"
      ]
    }
  ],
  "metadata": {
    "colab": {
      "provenance": []
    },
    "kernelspec": {
      "display_name": "Python 3",
      "name": "python3"
    },
    "language_info": {
      "codemirror_mode": {
        "name": "ipython",
        "version": 3
      },
      "file_extension": ".py",
      "mimetype": "text/x-python",
      "name": "python",
      "nbconvert_exporter": "python",
      "pygments_lexer": "ipython3",
      "version": "3.12.3"
    }
  },
  "nbformat": 4,
  "nbformat_minor": 0
}
